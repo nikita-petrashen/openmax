{
 "cells": [
  {
   "cell_type": "code",
   "execution_count": 1,
   "id": "1d5aff0d",
   "metadata": {},
   "outputs": [],
   "source": [
    "import torch\n",
    "\n",
    "from openmax.weibull_fitting import WeibullFitting\n",
    "from openmax.openmax import OpenMax"
   ]
  },
  {
   "cell_type": "code",
   "execution_count": 2,
   "id": "d370c21f",
   "metadata": {},
   "outputs": [],
   "source": [
    "# toy data params\n",
    "num_class = 10\n",
    "emb_dim = 100\n",
    "samples_per_class = [100, 200, 300, 400, 500, 100, 200, 300, 400, 500]\n",
    "class_names = ['a', 'b', 'c', 'd', 'e', 'f', 'g', 'h', 'i', 'j']\n",
    "num_samples_test = 20\n",
    "\n",
    "# parameters of OpenMax process\n",
    "tailsize = 20\n",
    "d_type = 'eucl'\n",
    "alpha = 3\n",
    "# threshold is selected based on the train data (see paper)\n",
    "threshold = 0.3\n",
    "\n",
    "# generate toy data\n",
    "train_embs = [torch.randn(n_samples, emb_dim) for n_samples in samples_per_class]\n",
    "test_logits = torch.randn(num_samples_test, num_class)\n",
    "test_embs = torch.randn(num_samples_test, emb_dim)"
   ]
  },
  {
   "cell_type": "code",
   "execution_count": 3,
   "id": "137d8755",
   "metadata": {},
   "outputs": [],
   "source": [
    "# fit Weibull models on the train data\n",
    "wf = WeibullFitting(tailsize, num_class)\n",
    "distances, centroids = wf.compute_centroids_and_distances(train_embs, distance_type=d_type)\n",
    "weibull_models = wf.fit_all_models(distances)"
   ]
  },
  {
   "cell_type": "code",
   "execution_count": 4,
   "id": "d6a67a2c",
   "metadata": {},
   "outputs": [],
   "source": [
    "# recalibrate toy test logits\n",
    "om = OpenMax(centroids, weibull_models, alpha=alpha, distance_type=d_type)\n",
    "logits_hat = om.recalibrate_logits(test_logits, embs=test_embs)\n",
    "# compute recalibrated SoftMax scores\n",
    "preds = om.compute_probs(logits_hat)"
   ]
  },
  {
   "cell_type": "code",
   "execution_count": 5,
   "id": "63fd4f5c",
   "metadata": {},
   "outputs": [
    {
     "data": {
      "text/plain": [
       "torch.Size([20, 11])"
      ]
     },
     "execution_count": 5,
     "metadata": {},
     "output_type": "execute_result"
    }
   ],
   "source": [
    "# prob of the unknown class is in the 0-th column\n",
    "preds.shape"
   ]
  },
  {
   "cell_type": "code",
   "execution_count": 6,
   "id": "d6e15bf8",
   "metadata": {},
   "outputs": [],
   "source": [
    "# the label is considered \"unknown\" if the highest score is below the threshold\n",
    "# or corresponds to the 0-th (unknown) class\n",
    "test_labels = [row.argmax(-1).item() if row.max() > threshold else 0 for row in preds]\n",
    "test_labels = [\"unk\" if label==0 else class_names[label-1] for label in test_labels]\n",
    "# labels before recalibration\n",
    "test_labels_original = [class_names[row.argmax().item()] for row in test_logits]"
   ]
  },
  {
   "cell_type": "code",
   "execution_count": 7,
   "id": "2ba41699",
   "metadata": {},
   "outputs": [
    {
     "name": "stdout",
     "output_type": "stream",
     "text": [
      "['h', 'unk', 'unk', 'g', 'unk', 'unk', 'f', 'i', 'j', 'd', 'j', 'unk', 'unk', 'unk', 'unk', 'unk', 'unk', 'unk', 'unk', 'b']\n"
     ]
    }
   ],
   "source": [
    "print(test_labels)"
   ]
  },
  {
   "cell_type": "code",
   "execution_count": 8,
   "id": "9a5b606b",
   "metadata": {},
   "outputs": [
    {
     "name": "stdout",
     "output_type": "stream",
     "text": [
      "['h', 'c', 'g', 'g', 'g', 'g', 'f', 'i', 'j', 'd', 'j', 'j', 'e', 'j', 'h', 'f', 'b', 'h', 'h', 'b']\n"
     ]
    }
   ],
   "source": [
    "print(test_labels_original)"
   ]
  }
 ],
 "metadata": {
  "kernelspec": {
   "display_name": "Python [conda env:pointnet]",
   "language": "python",
   "name": "conda-env-pointnet-py"
  },
  "language_info": {
   "codemirror_mode": {
    "name": "ipython",
    "version": 3
   },
   "file_extension": ".py",
   "mimetype": "text/x-python",
   "name": "python",
   "nbconvert_exporter": "python",
   "pygments_lexer": "ipython3",
   "version": "3.8.11"
  }
 },
 "nbformat": 4,
 "nbformat_minor": 5
}
